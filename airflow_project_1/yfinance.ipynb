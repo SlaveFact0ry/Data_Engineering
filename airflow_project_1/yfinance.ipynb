{
 "cells": [
  {
   "cell_type": "code",
   "execution_count": 1,
   "id": "5005170d",
   "metadata": {},
   "outputs": [],
   "source": [
    "!pip install yfinance -qqq\n"
   ]
  },
  {
   "cell_type": "code",
   "execution_count": 2,
   "id": "55ecbfcf",
   "metadata": {},
   "outputs": [
    {
     "name": "stderr",
     "output_type": "stream",
     "text": [
      "/var/folders/lq/789xtspj42b7fzl0zns5n46w0000gn/T/ipykernel_14326/2752926208.py:2: FutureWarning: YF.download() has changed argument auto_adjust default to True\n",
      "  data = yf.download([\"PLTR\"], start = \"2025-01-01\")\n",
      "[*********************100%***********************]  1 of 1 completed\n"
     ]
    }
   ],
   "source": [
    "import yfinance as yf\n",
    "data = yf.download([\"PLTR\"], start = \"2025-01-01\")"
   ]
  },
  {
   "cell_type": "code",
   "execution_count": 3,
   "id": "a1865f4a",
   "metadata": {},
   "outputs": [
    {
     "data": {
      "text/html": [
       "<div>\n",
       "<style scoped>\n",
       "    .dataframe tbody tr th:only-of-type {\n",
       "        vertical-align: middle;\n",
       "    }\n",
       "\n",
       "    .dataframe tbody tr th {\n",
       "        vertical-align: top;\n",
       "    }\n",
       "\n",
       "    .dataframe thead tr th {\n",
       "        text-align: left;\n",
       "    }\n",
       "\n",
       "    .dataframe thead tr:last-of-type th {\n",
       "        text-align: right;\n",
       "    }\n",
       "</style>\n",
       "<table border=\"1\" class=\"dataframe\">\n",
       "  <thead>\n",
       "    <tr>\n",
       "      <th>Price</th>\n",
       "      <th>Close</th>\n",
       "      <th>High</th>\n",
       "      <th>Low</th>\n",
       "      <th>Open</th>\n",
       "      <th>Volume</th>\n",
       "    </tr>\n",
       "    <tr>\n",
       "      <th>Ticker</th>\n",
       "      <th>PLTR</th>\n",
       "      <th>PLTR</th>\n",
       "      <th>PLTR</th>\n",
       "      <th>PLTR</th>\n",
       "      <th>PLTR</th>\n",
       "    </tr>\n",
       "    <tr>\n",
       "      <th>Date</th>\n",
       "      <th></th>\n",
       "      <th></th>\n",
       "      <th></th>\n",
       "      <th></th>\n",
       "      <th></th>\n",
       "    </tr>\n",
       "  </thead>\n",
       "  <tbody>\n",
       "    <tr>\n",
       "      <th>2025-01-02</th>\n",
       "      <td>75.190002</td>\n",
       "      <td>76.529999</td>\n",
       "      <td>72.419998</td>\n",
       "      <td>76.199997</td>\n",
       "      <td>72217200</td>\n",
       "    </tr>\n",
       "    <tr>\n",
       "      <th>2025-01-03</th>\n",
       "      <td>79.889999</td>\n",
       "      <td>79.980003</td>\n",
       "      <td>75.190002</td>\n",
       "      <td>75.389999</td>\n",
       "      <td>62415000</td>\n",
       "    </tr>\n",
       "    <tr>\n",
       "      <th>2025-01-06</th>\n",
       "      <td>75.919998</td>\n",
       "      <td>80.059998</td>\n",
       "      <td>74.610001</td>\n",
       "      <td>78.690002</td>\n",
       "      <td>105619500</td>\n",
       "    </tr>\n",
       "    <tr>\n",
       "      <th>2025-01-07</th>\n",
       "      <td>69.989998</td>\n",
       "      <td>75.389999</td>\n",
       "      <td>69.750000</td>\n",
       "      <td>75.199997</td>\n",
       "      <td>91727300</td>\n",
       "    </tr>\n",
       "    <tr>\n",
       "      <th>2025-01-08</th>\n",
       "      <td>68.230003</td>\n",
       "      <td>69.529999</td>\n",
       "      <td>66.510002</td>\n",
       "      <td>68.120003</td>\n",
       "      <td>91349500</td>\n",
       "    </tr>\n",
       "  </tbody>\n",
       "</table>\n",
       "</div>"
      ],
      "text/plain": [
       "Price           Close       High        Low       Open     Volume\n",
       "Ticker           PLTR       PLTR       PLTR       PLTR       PLTR\n",
       "Date                                                             \n",
       "2025-01-02  75.190002  76.529999  72.419998  76.199997   72217200\n",
       "2025-01-03  79.889999  79.980003  75.190002  75.389999   62415000\n",
       "2025-01-06  75.919998  80.059998  74.610001  78.690002  105619500\n",
       "2025-01-07  69.989998  75.389999  69.750000  75.199997   91727300\n",
       "2025-01-08  68.230003  69.529999  66.510002  68.120003   91349500"
      ]
     },
     "execution_count": 3,
     "metadata": {},
     "output_type": "execute_result"
    }
   ],
   "source": [
    "data.head()"
   ]
  },
  {
   "cell_type": "code",
   "execution_count": 4,
   "id": "e1405248",
   "metadata": {},
   "outputs": [
    {
     "name": "stderr",
     "output_type": "stream",
     "text": [
      "/var/folders/lq/789xtspj42b7fzl0zns5n46w0000gn/T/ipykernel_14326/997027815.py:1: FutureWarning: YF.download() has changed argument auto_adjust default to True\n",
      "  data = yf.download([\"AMPX\"])\n",
      "[*********************100%***********************]  1 of 1 completed\n"
     ]
    }
   ],
   "source": [
    "data = yf.download([\"AMPX\"])"
   ]
  },
  {
   "cell_type": "code",
   "execution_count": 5,
   "id": "1b9a59aa",
   "metadata": {},
   "outputs": [
    {
     "data": {
      "text/html": [
       "<div>\n",
       "<style scoped>\n",
       "    .dataframe tbody tr th:only-of-type {\n",
       "        vertical-align: middle;\n",
       "    }\n",
       "\n",
       "    .dataframe tbody tr th {\n",
       "        vertical-align: top;\n",
       "    }\n",
       "\n",
       "    .dataframe thead tr th {\n",
       "        text-align: left;\n",
       "    }\n",
       "\n",
       "    .dataframe thead tr:last-of-type th {\n",
       "        text-align: right;\n",
       "    }\n",
       "</style>\n",
       "<table border=\"1\" class=\"dataframe\">\n",
       "  <thead>\n",
       "    <tr>\n",
       "      <th>Price</th>\n",
       "      <th>Close</th>\n",
       "      <th>High</th>\n",
       "      <th>Low</th>\n",
       "      <th>Open</th>\n",
       "      <th>Volume</th>\n",
       "    </tr>\n",
       "    <tr>\n",
       "      <th>Ticker</th>\n",
       "      <th>AMPX</th>\n",
       "      <th>AMPX</th>\n",
       "      <th>AMPX</th>\n",
       "      <th>AMPX</th>\n",
       "      <th>AMPX</th>\n",
       "    </tr>\n",
       "    <tr>\n",
       "      <th>Date</th>\n",
       "      <th></th>\n",
       "      <th></th>\n",
       "      <th></th>\n",
       "      <th></th>\n",
       "      <th></th>\n",
       "    </tr>\n",
       "  </thead>\n",
       "  <tbody>\n",
       "    <tr>\n",
       "      <th>2025-08-18</th>\n",
       "      <td>7.21</td>\n",
       "      <td>7.310</td>\n",
       "      <td>6.855</td>\n",
       "      <td>7.04</td>\n",
       "      <td>4082700</td>\n",
       "    </tr>\n",
       "    <tr>\n",
       "      <th>2025-08-19</th>\n",
       "      <td>6.74</td>\n",
       "      <td>7.205</td>\n",
       "      <td>6.680</td>\n",
       "      <td>7.19</td>\n",
       "      <td>4569800</td>\n",
       "    </tr>\n",
       "    <tr>\n",
       "      <th>2025-08-20</th>\n",
       "      <td>6.74</td>\n",
       "      <td>6.827</td>\n",
       "      <td>6.363</td>\n",
       "      <td>6.62</td>\n",
       "      <td>4926300</td>\n",
       "    </tr>\n",
       "    <tr>\n",
       "      <th>2025-08-21</th>\n",
       "      <td>6.79</td>\n",
       "      <td>6.950</td>\n",
       "      <td>6.551</td>\n",
       "      <td>6.62</td>\n",
       "      <td>3525900</td>\n",
       "    </tr>\n",
       "    <tr>\n",
       "      <th>2025-08-22</th>\n",
       "      <td>7.17</td>\n",
       "      <td>7.310</td>\n",
       "      <td>6.700</td>\n",
       "      <td>6.71</td>\n",
       "      <td>5974600</td>\n",
       "    </tr>\n",
       "  </tbody>\n",
       "</table>\n",
       "</div>"
      ],
      "text/plain": [
       "Price      Close   High    Low  Open   Volume\n",
       "Ticker      AMPX   AMPX   AMPX  AMPX     AMPX\n",
       "Date                                         \n",
       "2025-08-18  7.21  7.310  6.855  7.04  4082700\n",
       "2025-08-19  6.74  7.205  6.680  7.19  4569800\n",
       "2025-08-20  6.74  6.827  6.363  6.62  4926300\n",
       "2025-08-21  6.79  6.950  6.551  6.62  3525900\n",
       "2025-08-22  7.17  7.310  6.700  6.71  5974600"
      ]
     },
     "execution_count": 5,
     "metadata": {},
     "output_type": "execute_result"
    }
   ],
   "source": [
    "data.head()"
   ]
  },
  {
   "cell_type": "code",
   "execution_count": 6,
   "id": "9d85869c",
   "metadata": {},
   "outputs": [
    {
     "data": {
      "text/plain": [
       "DatetimeIndex(['2025-08-18', '2025-08-19', '2025-08-20', '2025-08-21',\n",
       "               '2025-08-22', '2025-08-25', '2025-08-26', '2025-08-27',\n",
       "               '2025-08-28', '2025-08-29', '2025-09-02', '2025-09-03',\n",
       "               '2025-09-04', '2025-09-05', '2025-09-08', '2025-09-09',\n",
       "               '2025-09-10', '2025-09-11', '2025-09-12', '2025-09-15',\n",
       "               '2025-09-16', '2025-09-17'],\n",
       "              dtype='datetime64[ns]', name='Date', freq=None)"
      ]
     },
     "execution_count": 6,
     "metadata": {},
     "output_type": "execute_result"
    }
   ],
   "source": [
    "data.index"
   ]
  },
  {
   "cell_type": "code",
   "execution_count": 8,
   "id": "93ad4a73",
   "metadata": {},
   "outputs": [],
   "source": [
    "data.columns = data.columns.droplevel(1)"
   ]
  },
  {
   "cell_type": "code",
   "execution_count": 9,
   "id": "155eb760",
   "metadata": {},
   "outputs": [
    {
     "data": {
      "text/html": [
       "<div>\n",
       "<style scoped>\n",
       "    .dataframe tbody tr th:only-of-type {\n",
       "        vertical-align: middle;\n",
       "    }\n",
       "\n",
       "    .dataframe tbody tr th {\n",
       "        vertical-align: top;\n",
       "    }\n",
       "\n",
       "    .dataframe thead th {\n",
       "        text-align: right;\n",
       "    }\n",
       "</style>\n",
       "<table border=\"1\" class=\"dataframe\">\n",
       "  <thead>\n",
       "    <tr style=\"text-align: right;\">\n",
       "      <th>Price</th>\n",
       "      <th>Close</th>\n",
       "      <th>High</th>\n",
       "      <th>Low</th>\n",
       "      <th>Open</th>\n",
       "      <th>Volume</th>\n",
       "    </tr>\n",
       "    <tr>\n",
       "      <th>Date</th>\n",
       "      <th></th>\n",
       "      <th></th>\n",
       "      <th></th>\n",
       "      <th></th>\n",
       "      <th></th>\n",
       "    </tr>\n",
       "  </thead>\n",
       "  <tbody>\n",
       "    <tr>\n",
       "      <th>2025-08-18</th>\n",
       "      <td>7.21</td>\n",
       "      <td>7.310</td>\n",
       "      <td>6.855</td>\n",
       "      <td>7.04</td>\n",
       "      <td>4082700</td>\n",
       "    </tr>\n",
       "    <tr>\n",
       "      <th>2025-08-19</th>\n",
       "      <td>6.74</td>\n",
       "      <td>7.205</td>\n",
       "      <td>6.680</td>\n",
       "      <td>7.19</td>\n",
       "      <td>4569800</td>\n",
       "    </tr>\n",
       "    <tr>\n",
       "      <th>2025-08-20</th>\n",
       "      <td>6.74</td>\n",
       "      <td>6.827</td>\n",
       "      <td>6.363</td>\n",
       "      <td>6.62</td>\n",
       "      <td>4926300</td>\n",
       "    </tr>\n",
       "    <tr>\n",
       "      <th>2025-08-21</th>\n",
       "      <td>6.79</td>\n",
       "      <td>6.950</td>\n",
       "      <td>6.551</td>\n",
       "      <td>6.62</td>\n",
       "      <td>3525900</td>\n",
       "    </tr>\n",
       "    <tr>\n",
       "      <th>2025-08-22</th>\n",
       "      <td>7.17</td>\n",
       "      <td>7.310</td>\n",
       "      <td>6.700</td>\n",
       "      <td>6.71</td>\n",
       "      <td>5974600</td>\n",
       "    </tr>\n",
       "  </tbody>\n",
       "</table>\n",
       "</div>"
      ],
      "text/plain": [
       "Price       Close   High    Low  Open   Volume\n",
       "Date                                          \n",
       "2025-08-18   7.21  7.310  6.855  7.04  4082700\n",
       "2025-08-19   6.74  7.205  6.680  7.19  4569800\n",
       "2025-08-20   6.74  6.827  6.363  6.62  4926300\n",
       "2025-08-21   6.79  6.950  6.551  6.62  3525900\n",
       "2025-08-22   7.17  7.310  6.700  6.71  5974600"
      ]
     },
     "execution_count": 9,
     "metadata": {},
     "output_type": "execute_result"
    }
   ],
   "source": [
    "data.head()\n"
   ]
  },
  {
   "cell_type": "code",
   "execution_count": 10,
   "id": "b52c21d1",
   "metadata": {},
   "outputs": [],
   "source": [
    "data.to_csv(\"ampx.csv\")"
   ]
  },
  {
   "cell_type": "code",
   "execution_count": 12,
   "id": "cb4f539f",
   "metadata": {},
   "outputs": [
    {
     "name": "stdout",
     "output_type": "stream",
     "text": [
      "Date,Close,High,Low,Open,Volume\n",
      "2025-08-18,7.210000038146973,7.309999942779541,6.855000019073486,7.039999961853027,4082700\n",
      "2025-08-19,6.739999771118164,7.204999923706055,6.679999828338623,7.190000057220459,4569800\n"
     ]
    }
   ],
   "source": [
    "!head -3 ampx.csv"
   ]
  },
  {
   "cell_type": "code",
   "execution_count": null,
   "id": "47bbb1cf",
   "metadata": {},
   "outputs": [],
   "source": []
  }
 ],
 "metadata": {
  "kernelspec": {
   "display_name": "datapipeline",
   "language": "python",
   "name": "python3"
  },
  "language_info": {
   "codemirror_mode": {
    "name": "ipython",
    "version": 3
   },
   "file_extension": ".py",
   "mimetype": "text/x-python",
   "name": "python",
   "nbconvert_exporter": "python",
   "pygments_lexer": "ipython3",
   "version": "3.10.15"
  }
 },
 "nbformat": 4,
 "nbformat_minor": 5
}
